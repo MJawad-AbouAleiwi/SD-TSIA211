{
  "cells": [
    {
      "cell_type": "markdown",
      "source": [
        "Name: Mohamad Jawad ABOU ALEIWI"
      ],
      "metadata": {
        "id": "Pc0yofDecZT4"
      },
      "id": "Pc0yofDecZT4"
    },
    {
      "cell_type": "code",
      "source": [
        "import warnings\n",
        "warnings.filterwarnings('ignore')\n",
        "\n",
        "import numpy as np\n",
        "import tensorflow as tf\n",
        "from tensorflow import keras\n",
        "from tensorflow.keras import layers\n",
        "import matplotlib.pyplot as plt\n",
        "import random"
      ],
      "metadata": {
        "id": "QVQWh-IiceL9"
      },
      "id": "QVQWh-IiceL9",
      "execution_count": 32,
      "outputs": []
    },
    {
      "cell_type": "code",
      "execution_count": 33,
      "id": "773c1396",
      "metadata": {
        "colab": {
          "base_uri": "https://localhost:8080/",
          "height": 519
        },
        "id": "773c1396",
        "outputId": "a8eaa3bc-996a-4ec0-f40d-99871e4fe2fb"
      },
      "outputs": [
        {
          "output_type": "stream",
          "name": "stdout",
          "text": [
            "5\n"
          ]
        },
        {
          "output_type": "execute_result",
          "data": {
            "text/plain": [
              "<matplotlib.image.AxesImage at 0x7ff023f00d30>"
            ]
          },
          "metadata": {},
          "execution_count": 33
        },
        {
          "output_type": "display_data",
          "data": {
            "text/plain": [
              "<Figure size 800x550 with 1 Axes>"
            ],
            "image/png": "[encoded data removed]"
          },
          "metadata": {}
        }
      ],
      "source": [
        "train_data, test_data = tf.keras.datasets.mnist.load_data(path=\"mnist.npz\")\n",
        "\n",
        "x_train = train_data[0].reshape(-1,784).astype(float) / 255\n",
        "y_train = train_data[1]\n",
        "\n",
        "x_test = test_data[0].reshape(-1,784).astype(float) / 255\n",
        "y_test = test_data[1]\n",
        "\n",
        "print(y_train[0])\n",
        "plt.imshow(train_data[0][0], cmap='gray')"
      ]
    },
    {
      "cell_type": "code",
      "execution_count": 34,
      "id": "4b521b78",
      "metadata": {
        "colab": {
          "base_uri": "https://localhost:8080/"
        },
        "id": "4b521b78",
        "outputId": "c8c22c18-5bec-4743-dd7c-be0030acd7a2"
      },
      "outputs": [
        {
          "output_type": "stream",
          "name": "stdout",
          "text": [
            "Model: \"mnist_model\"\n",
            "_________________________________________________________________\n",
            " Layer (type)                Output Shape              Param #   \n",
            "=================================================================\n",
            " digits (InputLayer)         [(None, 784)]             0         \n",
            "                                                                 \n",
            " dense_1 (Dense)             (None, 32)                25120     \n",
            "                                                                 \n",
            " dense_2 (Dense)             (None, 32)                1056      \n",
            "                                                                 \n",
            " predictions (Dense)         (None, 10)                330       \n",
            "                                                                 \n",
            "=================================================================\n",
            "Total params: 26506 (103.54 KB)\n",
            "Trainable params: 26506 (103.54 KB)\n",
            "Non-trainable params: 0 (0.00 Byte)\n",
            "_________________________________________________________________\n"
          ]
        }
      ],
      "source": [
        "inputs = keras.Input(shape=(784,), name=\"digits\")\n",
        "\n",
        "x = layers.Dense(32, activation=\"relu\", name=\"dense_1\")(inputs)\n",
        "x = layers.Dense(32, activation=\"relu\", name=\"dense_2\")(x)\n",
        "\n",
        "outputs = layers.Dense(10, activation=None, name=\"predictions\")(x)\n",
        "model = keras.Model(inputs=inputs, outputs=outputs, name=\"mnist_model\")\n",
        "\n",
        "loss = keras.losses.SparseCategoricalCrossentropy(from_logits=True)\n",
        "\n",
        "model.summary()"
      ]
    },
    {
      "cell_type": "code",
      "execution_count": 35,
      "id": "b18b6bdb",
      "metadata": {
        "colab": {
          "base_uri": "https://localhost:8080/"
        },
        "id": "b18b6bdb",
        "outputId": "ce3180e4-038e-40f6-95db-d7a81d95bdc0"
      },
      "outputs": [
        {
          "output_type": "execute_result",
          "data": {
            "text/plain": [
              "array([3, 3, 3, 3, 1, 3, 3, 3, 3, 4, 3, 3, 3, 3, 3, 3, 3, 3, 0, 3, 3, 3,\n",
              "       3, 3, 3, 3, 3, 3, 3, 3, 3, 3, 3, 3, 3, 3, 3, 3, 3, 3, 3, 3, 3, 3,\n",
              "       3, 3, 3, 3, 3, 3, 3, 3, 1, 1, 3, 3, 3, 3, 3, 3, 3, 3, 3, 3, 9, 3,\n",
              "       3, 3, 3, 3, 3, 3, 3, 8, 3, 3, 3, 3, 3, 3, 3, 3, 3, 3, 3, 3, 3, 3,\n",
              "       3, 3, 3, 3, 3, 3, 3, 3, 3, 3, 3, 3])"
            ]
          },
          "metadata": {},
          "execution_count": 35
        }
      ],
      "source": [
        "# untrained model\n",
        "logits = model(x_train)\n",
        "np.argmax(logits, 1)[0:100]"
      ]
    },
    {
      "cell_type": "code",
      "execution_count": 36,
      "id": "35d74f67",
      "metadata": {
        "colab": {
          "base_uri": "https://localhost:8080/"
        },
        "id": "35d74f67",
        "outputId": "47a84c9b-9dac-4552-a3b2-e9f0d57a25c7"
      },
      "outputs": [
        {
          "output_type": "execute_result",
          "data": {
            "text/plain": [
              "array([5, 0, 4, 1, 9, 2, 1, 3, 1, 4, 3, 5, 3, 6, 1, 7, 2, 8, 6, 9, 4, 0,\n",
              "       9, 1, 1, 2, 4, 3, 2, 7, 3, 8, 6, 9, 0, 5, 6, 0, 7, 6, 1, 8, 7, 9,\n",
              "       3, 9, 8, 5, 9, 3, 3, 0, 7, 4, 9, 8, 0, 9, 4, 1, 4, 4, 6, 0, 4, 5,\n",
              "       6, 1, 0, 0, 1, 7, 1, 6, 3, 0, 2, 1, 1, 7, 9, 0, 2, 6, 7, 8, 3, 9,\n",
              "       0, 4, 6, 7, 4, 6, 8, 0, 7, 8, 3, 1], dtype=uint8)"
            ]
          },
          "metadata": {},
          "execution_count": 36
        }
      ],
      "source": [
        "# what we would like to get\n",
        "y_train[0:100]"
      ]
    },
    {
      "cell_type": "markdown",
      "source": [
        "Model:"
      ],
      "metadata": {
        "id": "65J5xqhyxhso"
      },
      "id": "65J5xqhyxhso"
    },
    {
      "cell_type": "markdown",
      "source": [
        "Question 4.1:\n",
        "\n",
        "The total number of optimization parameters are : (784+1)x32 + (32+1)x32 + (32+1)x10 = 26506.\n",
        "\n",
        "Since the input layer simply passes the input data forward, it doesn't perform any computation involving weights or biases."
      ],
      "metadata": {
        "id": "9xbvEaQ5xoZa"
      },
      "id": "9xbvEaQ5xoZa"
    },
    {
      "cell_type": "markdown",
      "source": [
        "Stochastic Gradient Descent:"
      ],
      "metadata": {
        "id": "XGybNAvmyjct"
      },
      "id": "XGybNAvmyjct"
    },
    {
      "cell_type": "markdown",
      "source": [
        "Question 5.1:"
      ],
      "metadata": {
        "id": "yKRV1iQgZw1S"
      },
      "id": "yKRV1iQgZw1S"
    },
    {
      "cell_type": "markdown",
      "source": [
        "The step size is given as: $$\\gamma_k = \\frac{\\gamma_0}{\\sqrt{k}}$$\n"
      ],
      "metadata": {
        "id": "H0DvF2yGz8uD"
      },
      "id": "H0DvF2yGz8uD"
    },
    {
      "cell_type": "code",
      "source": [
        "def SGD(untrained_model, initial_step, epochs, batch_size=32):\n",
        "\n",
        "    model = tf.keras.models.clone_model(untrained_model)\n",
        "    error_list = [] # list to store errors during training\n",
        "\n",
        "    # nb of iterations\n",
        "    k = 0\n",
        "\n",
        "    for epoch in range(epochs):\n",
        "        for _ in range(x_train.shape[0] // batch_size):\n",
        "\n",
        "            # update step size\n",
        "            step = initial_step / np.sqrt(k)\n",
        "            k += 1\n",
        "\n",
        "            # take a random batch, by default we assume it is 32\n",
        "            x_train_batch = x_train[random.randint(0, x_train.shape[0] - batch_size):random.randint(0, x_train.shape[0] - batch_size) + batch_size]\n",
        "            y_train_batch = y_train[random.randint(0, x_train.shape[0] - batch_size):random.randint(0, x_train.shape[0] - batch_size) + batch_size]\n",
        "\n",
        "            # compute gradients\n",
        "            with tf.GradientTape() as tape:\n",
        "                logits = model(x_train_batch)\n",
        "                loss_value = loss(y_train_batch, logits)\n",
        "\n",
        "            grad = tape.gradient(loss_value, model.trainable_weights)\n",
        "\n",
        "            new_weights = model.trainable_weights.copy()\n",
        "\n",
        "            # update weights\n",
        "            for i in range(len(new_weights)):\n",
        "                new_weights[i] = new_weights[i] - step * grad[i]\n",
        "            model.set_weights(new_weights)\n",
        "\n",
        "            # evaluate error every 10 iterations, save computing time\n",
        "            if k % 10 == 0:\n",
        "                samples_for_evaluation = np.random.randint(0, 10000, 1000)\n",
        "                logits = model(x_train[samples_for_evaluation])\n",
        "                error = loss(y_train[samples_for_evaluation], logits).numpy()\n",
        "                error_list.append([k, np.linalg.norm(error)])\n",
        "\n",
        "    print(\"Training completed for\", epochs, \"epoch(s).\")\n",
        "    return model, error_list"
      ],
      "metadata": {
        "id": "GCgihtziw1vU"
      },
      "id": "GCgihtziw1vU",
      "execution_count": 37,
      "outputs": []
    },
    {
      "cell_type": "markdown",
      "source": [
        "Question 5.2:"
      ],
      "metadata": {
        "id": "cc09EpZu00U-"
      },
      "id": "cc09EpZu00U-"
    },
    {
      "cell_type": "code",
      "source": [
        "# run for one epoch\n",
        "trained_model,err = SGD(model,1,1)\n",
        "\n",
        "x_values = [error[0] for error in err]\n",
        "y_values = [error[1] for error in err]\n",
        "\n",
        "# plot the function and the points\n",
        "plt.plot(x_values, y_values, marker='o', linestyle='-', color='blue')\n",
        "plt.xlabel('Iteration')\n",
        "plt.ylabel('Error')\n",
        "plt.title('Objective Value vs Iteration')\n",
        "plt.legend()\n",
        "plt.show()"
      ],
      "metadata": {
        "colab": {
          "base_uri": "https://localhost:8080/",
          "height": 579
        },
        "id": "tQ3BuBGhw79x",
        "outputId": "b43a7a0b-66ca-4c89-c6a7-1ef340a4e6cf"
      },
      "id": "tQ3BuBGhw79x",
      "execution_count": 40,
      "outputs": [
        {
          "output_type": "stream",
          "name": "stderr",
          "text": [
            "WARNING:matplotlib.legend:No artists with labels found to put in legend.  Note that artists whose label start with an underscore are ignored when legend() is called with no argument.\n"
          ]
        },
        {
          "output_type": "stream",
          "name": "stdout",
          "text": [
            "Training completed for 1 epochs.\n"
          ]
        },
        {
          "output_type": "display_data",
          "data": {
            "text/plain": [
              "<Figure size 800x550 with 1 Axes>"
            ],
            "image/png": "[encoded data removed]"
          },
          "metadata": {}
        }
      ]
    },
    {
      "cell_type": "markdown",
      "source": [
        "Empirical Risk Minimizer:"
      ],
      "metadata": {
        "id": "-tBwyg22cFLp"
      },
      "id": "-tBwyg22cFLp"
    },
    {
      "cell_type": "markdown",
      "source": [
        "Question 6.1:"
      ],
      "metadata": {
        "id": "dsKMkHf0cJg4"
      },
      "id": "dsKMkHf0cJg4"
    },
    {
      "cell_type": "code",
      "source": [
        "# run for ten epochs\n",
        "trained_model_10,err_10 = SGD(model,1,10)\n",
        "\n",
        "x_values_10 = [error[0] for error in err_10]\n",
        "y_values_10 = [error[1] for error in err_10]\n",
        "\n",
        "# plot the function and the points\n",
        "plt.plot(x_values_10, y_values_10, marker='o', linestyle='-', color='blue')\n",
        "plt.xlabel('Iteration')\n",
        "plt.ylabel('Error')\n",
        "plt.title('Objective Value vs Iteration')\n",
        "plt.legend()\n",
        "plt.show()"
      ],
      "metadata": {
        "colab": {
          "base_uri": "https://localhost:8080/",
          "height": 579
        },
        "id": "9ybmvEs31W6U",
        "outputId": "6aca9241-fd74-449a-a7e1-e08d159030f0"
      },
      "id": "9ybmvEs31W6U",
      "execution_count": 42,
      "outputs": [
        {
          "output_type": "stream",
          "name": "stderr",
          "text": [
            "WARNING:matplotlib.legend:No artists with labels found to put in legend.  Note that artists whose label start with an underscore are ignored when legend() is called with no argument.\n"
          ]
        },
        {
          "output_type": "stream",
          "name": "stdout",
          "text": [
            "Training completed for 10 epochs.\n"
          ]
        },
        {
          "output_type": "display_data",
          "data": {
            "text/plain": [
              "<Figure size 800x550 with 1 Axes>"
            ],
            "image/png": "[encoded data removed]"
          },
          "metadata": {}
        }
      ]
    },
    {
      "cell_type": "markdown",
      "source": [
        "Question 6.2:\n",
        "\n",
        "Computational Efficiency: Make it more computationally efficient compared to pure stochastic gradient descent, which updates the model's parameters after each individual data point.\n",
        "\n",
        "Smooth Convergence: By averaging the gradients more stable updates to the model's parameters compared to pure stochastic gradient descent. This smoothing effect helps in achieving smoother convergence towards the optimal solution.\n",
        "\n",
        "Regularization: By averaging gradients over multiple data points, provides a form of implicit regularization, which can help prevent overfitting and improve the generalization performance of the model."
      ],
      "metadata": {
        "id": "TX5nwtK8cM0F"
      },
      "id": "TX5nwtK8cM0F"
    },
    {
      "cell_type": "markdown",
      "source": [
        "Question 6.3:\n",
        "\n",
        "Just updated the code in question 5. By deafult, I will take the batch size as 32."
      ],
      "metadata": {
        "id": "x-7b_rlscQQr"
      },
      "id": "x-7b_rlscQQr"
    },
    {
      "cell_type": "markdown",
      "source": [
        "Evaluation of the Model:"
      ],
      "metadata": {
        "id": "Y-l-BX8JcTFn"
      },
      "id": "Y-l-BX8JcTFn"
    },
    {
      "cell_type": "code",
      "source": [
        "# training set\n",
        "training_logits = trained_model(x_train)\n",
        "training_error = loss(y_train, training_logits).numpy()\n",
        "\n",
        "# testing set\n",
        "testing_logits = trained_model(x_test)\n",
        "testing_error = loss(y_test, testing_logits).numpy()\n",
        "\n",
        "print(\"Training error:\",training_error)\n",
        "print(\"Testing error:\",testing_error)"
      ],
      "metadata": {
        "colab": {
          "base_uri": "https://localhost:8080/"
        },
        "id": "os4wFBYBywJd",
        "outputId": "b2d70868-abc4-481f-8e7f-2490f7f13849"
      },
      "id": "os4wFBYBywJd",
      "execution_count": 44,
      "outputs": [
        {
          "output_type": "stream",
          "name": "stdout",
          "text": [
            "Training error: 2.3028593\n",
            "Testing error: 2.3029547\n"
          ]
        }
      ]
    }
  ],
  "metadata": {
    "kernelspec": {
      "display_name": "Python 3",
      "language": "python",
      "name": "python3"
    },
    "language_info": {
      "codemirror_mode": {
        "name": "ipython",
        "version": 3
      },
      "file_extension": ".py",
      "mimetype": "text/x-python",
      "name": "python",
      "nbconvert_exporter": "python",
      "pygments_lexer": "ipython3",
      "version": "3.12.0"
    },
    "colab": {
      "provenance": []
    }
  },
  "nbformat": 4,
  "nbformat_minor": 5
}